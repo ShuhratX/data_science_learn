{
  "nbformat": 4,
  "nbformat_minor": 0,
  "metadata": {
    "colab": {
      "provenance": [],
      "include_colab_link": true
    },
    "kernelspec": {
      "display_name": "Python 3",
      "language": "python",
      "name": "python3"
    },
    "language_info": {
      "codemirror_mode": {
        "name": "ipython",
        "version": 3
      },
      "file_extension": ".py",
      "mimetype": "text/x-python",
      "name": "python",
      "nbconvert_exporter": "python",
      "pygments_lexer": "ipython3",
      "version": "3.8.8"
    }
  },
  "cells": [
    {
      "cell_type": "markdown",
      "metadata": {
        "id": "view-in-github",
        "colab_type": "text"
      },
      "source": [
        "<a href=\"https://colab.research.google.com/github/ShuhratX/data_science_learn/blob/main/DS_pandas_1_amaliyot_df.ipynb\" target=\"_parent\"><img src=\"https://colab.research.google.com/assets/colab-badge.svg\" alt=\"Open In Colab\"/></a>"
      ]
    },
    {
      "cell_type": "markdown",
      "metadata": {
        "id": "WyTfPJtEqH5C"
      },
      "source": [
        "# ![Imgur](https://i.imgur.com/5pXzCIu.png)\n",
        "\n",
        "# **DATA SCIENCE VA SUN'IY INTELLEKT PRAKTIKUM**\n",
        "\n",
        "## Ma'lumotlar tahlili. Pandas kutubxonasi.\n",
        "\n",
        "# **AMALIYOT**\n",
        "## 3.1 Series va Index"
      ]
    },
    {
      "cell_type": "markdown",
      "metadata": {
        "id": "FNLOb9yhxI0b"
      },
      "source": [
        "### **1-mashq**. `Pandas` kutubxonasini `pd`, `numpy` kutubxonasini `np` deb chaqirib oling"
      ]
    },
    {
      "cell_type": "code",
      "metadata": {
        "id": "GrbBfqRpxIFr"
      },
      "source": [
        "# Javobni shuyerga yozing\n",
        "import pandas as pd\n",
        "import numpy as np\n"
      ],
      "execution_count": 2,
      "outputs": []
    },
    {
      "cell_type": "code",
      "metadata": {
        "code_folding": [],
        "id": "24df0gBjIppl",
        "jupyter": {
          "source_hidden": true
        },
        "tags": [],
        "cellView": "form"
      },
      "source": [
        "#@title To'g'ri javob\n",
        "import pandas as pd\n",
        "import numpy as np"
      ],
      "execution_count": 3,
      "outputs": []
    },
    {
      "cell_type": "markdown",
      "metadata": {
        "id": "4Utgz2Bf3GgB"
      },
      "source": [
        "### **2-mashq.** O'zbekiston Respublikasi viloyatlaridan iborat bir o'lchamli Series obyektini yarating "
      ]
    },
    {
      "cell_type": "code",
      "metadata": {
        "id": "PD7qQQH9oA87"
      },
      "source": [
        "# Javobni shu yerga yozing\n",
        "reg = [\"Andijon\", \"Buxoro\", \"Farg'ona\", \"Jizzax\", \"Namangan\", \"Navoiy\", \"Qashqadaryo\", \"Samarqand\", \"Sirdaryo\", \"Surxondaryo\", \"Xorazm\", \"Qoraqalpog'iston R\", \"Toshkent\"]\n",
        "regs = pd.Series(reg)\n"
      ],
      "execution_count": 47,
      "outputs": []
    },
    {
      "cell_type": "code",
      "metadata": {
        "cellView": "form",
        "code_folding": [
          0
        ],
        "colab": {
          "base_uri": "https://localhost:8080/"
        },
        "id": "u0m-fPU43iPn",
        "jupyter": {
          "source_hidden": true
        },
        "tags": [],
        "outputId": "61215709-e579-485e-fa56-c3be73727297"
      },
      "source": [
        "#@title **To'g'ri javob**\n",
        "obj = pd.Series(\n",
        "    [\n",
        "        \"Andijon\",\n",
        "        \"Buxoro\",\n",
        "        \"Farg'ona\",\n",
        "        \"Jizzax\",\n",
        "        \"Xorazm\",\n",
        "        \"Namangan\",\n",
        "        \"Navoiy\",\n",
        "        \"Qashqadaryo\",\n",
        "        \"Qoraqalpog'iston Respublikasi\",\n",
        "        \"Samarqand\",\n",
        "        \"Sirdaryo\",\n",
        "        \"Surxondaryo\",\n",
        "        \"Toshkent\",\n",
        "    ]\n",
        ")\n",
        "print(obj)"
      ],
      "execution_count": 5,
      "outputs": [
        {
          "output_type": "stream",
          "name": "stdout",
          "text": [
            "0                           Andijon\n",
            "1                            Buxoro\n",
            "2                          Farg'ona\n",
            "3                            Jizzax\n",
            "4                            Xorazm\n",
            "5                          Namangan\n",
            "6                            Navoiy\n",
            "7                       Qashqadaryo\n",
            "8     Qoraqalpog'iston Respublikasi\n",
            "9                         Samarqand\n",
            "10                         Sirdaryo\n",
            "11                      Surxondaryo\n",
            "12                         Toshkent\n",
            "dtype: object\n"
          ]
        }
      ]
    },
    {
      "cell_type": "markdown",
      "metadata": {
        "id": "HNKNuN67pQzX"
      },
      "source": [
        "### **3-mashq.** Yuqorida yaratilgan Series obyektining barcha qiymaltarini chiqaring"
      ]
    },
    {
      "cell_type": "code",
      "metadata": {
        "id": "DLduyoXjqkSx",
        "outputId": "8db39c2e-5924-414f-9a37-8fc0c7137980",
        "colab": {
          "base_uri": "https://localhost:8080/"
        }
      },
      "source": [
        "# Javobni shuyerga yozing\n",
        "regs.values\n"
      ],
      "execution_count": 48,
      "outputs": [
        {
          "output_type": "execute_result",
          "data": {
            "text/plain": [
              "array(['Andijon', 'Buxoro', \"Farg'ona\", 'Jizzax', 'Namangan', 'Navoiy',\n",
              "       'Qashqadaryo', 'Samarqand', 'Sirdaryo', 'Surxondaryo', 'Xorazm',\n",
              "       \"Qoraqalpog'iston R\", 'Toshkent'], dtype=object)"
            ]
          },
          "metadata": {},
          "execution_count": 48
        }
      ]
    },
    {
      "cell_type": "code",
      "metadata": {
        "code_folding": [
          0
        ],
        "colab": {
          "base_uri": "https://localhost:8080/"
        },
        "id": "SDdwnLJ731EK",
        "jupyter": {
          "source_hidden": true
        },
        "tags": [],
        "outputId": "382dd52f-3cd1-4ead-a5d8-bbf862a5afc6"
      },
      "source": [
        "# @title **To'g'ri javob**\n",
        "obj.values"
      ],
      "execution_count": 7,
      "outputs": [
        {
          "output_type": "execute_result",
          "data": {
            "text/plain": [
              "array(['Andijon', 'Buxoro', \"Farg'ona\", 'Jizzax', 'Xorazm', 'Namangan',\n",
              "       'Navoiy', 'Qashqadaryo', \"Qoraqalpog'iston Respublikasi\",\n",
              "       'Samarqand', 'Sirdaryo', 'Surxondaryo', 'Toshkent'], dtype=object)"
            ]
          },
          "metadata": {},
          "execution_count": 7
        }
      ]
    },
    {
      "cell_type": "markdown",
      "metadata": {
        "id": "dfiWArV2qvTr"
      },
      "source": [
        "### **4-mashq.** Yuqoridagi Series obyektining eng birinchi qiymatini chiqaring"
      ]
    },
    {
      "cell_type": "code",
      "metadata": {
        "id": "On9qxbkehV9e",
        "outputId": "5078203e-4f53-47d5-a808-b719de924c55",
        "colab": {
          "base_uri": "https://localhost:8080/",
          "height": 35
        }
      },
      "source": [
        "# Javobni shuyerga yozing\n",
        "regs[0]"
      ],
      "execution_count": 49,
      "outputs": [
        {
          "output_type": "execute_result",
          "data": {
            "text/plain": [
              "'Andijon'"
            ],
            "application/vnd.google.colaboratory.intrinsic+json": {
              "type": "string"
            }
          },
          "metadata": {},
          "execution_count": 49
        }
      ]
    },
    {
      "cell_type": "code",
      "metadata": {
        "cellView": "form",
        "code_folding": [
          0
        ],
        "colab": {
          "base_uri": "https://localhost:8080/",
          "height": 35
        },
        "id": "_Dn-oksDv5zL",
        "jupyter": {
          "source_hidden": true
        },
        "tags": [],
        "outputId": "d38c5c38-a122-4212-a9c1-6e2632970f99"
      },
      "source": [
        "# @title **To'g'ri javob**\n",
        "obj[0]"
      ],
      "execution_count": 9,
      "outputs": [
        {
          "output_type": "execute_result",
          "data": {
            "text/plain": [
              "'Andijon'"
            ],
            "application/vnd.google.colaboratory.intrinsic+json": {
              "type": "string"
            }
          },
          "metadata": {},
          "execution_count": 9
        }
      ]
    },
    {
      "cell_type": "markdown",
      "metadata": {
        "id": "ARL6cU7KhPUO"
      },
      "source": [
        "### **5-mashq.** Yuqoridagi Series obyektining eng oxirgi qiymatini chiqaring"
      ]
    },
    {
      "cell_type": "code",
      "metadata": {
        "id": "nIDEksXShLO5",
        "outputId": "f194422b-6640-49ee-d78b-c7bc466a8a57",
        "colab": {
          "base_uri": "https://localhost:8080/",
          "height": 35
        }
      },
      "source": [
        "# Javobni shuyerga yozing\n",
        "regs.iloc[-1]"
      ],
      "execution_count": 50,
      "outputs": [
        {
          "output_type": "execute_result",
          "data": {
            "text/plain": [
              "'Toshkent'"
            ],
            "application/vnd.google.colaboratory.intrinsic+json": {
              "type": "string"
            }
          },
          "metadata": {},
          "execution_count": 50
        }
      ]
    },
    {
      "cell_type": "code",
      "metadata": {
        "code_folding": [
          0
        ],
        "colab": {
          "base_uri": "https://localhost:8080/",
          "height": 35
        },
        "id": "wnan3_t1hYkG",
        "jupyter": {
          "source_hidden": true
        },
        "tags": [],
        "outputId": "d48db71d-22ce-476a-84f6-e42a69ac7656"
      },
      "source": [
        "# @title **To'g'ri javob**\n",
        "obj[12]"
      ],
      "execution_count": 11,
      "outputs": [
        {
          "output_type": "execute_result",
          "data": {
            "text/plain": [
              "'Toshkent'"
            ],
            "application/vnd.google.colaboratory.intrinsic+json": {
              "type": "string"
            }
          },
          "metadata": {},
          "execution_count": 11
        }
      ]
    },
    {
      "cell_type": "markdown",
      "metadata": {
        "id": "peT8QIPdh2SM"
      },
      "source": [
        "### **6-mashq.** Yuqoridagi Series obyekti uzunligini chiqaring"
      ]
    },
    {
      "cell_type": "code",
      "metadata": {
        "id": "g72orrMvheN4",
        "outputId": "ee80c08f-f97b-4322-a788-abea42b92111",
        "colab": {
          "base_uri": "https://localhost:8080/"
        }
      },
      "source": [
        "# Javobni shuyerga yozing\n",
        "regs.size"
      ],
      "execution_count": 51,
      "outputs": [
        {
          "output_type": "execute_result",
          "data": {
            "text/plain": [
              "13"
            ]
          },
          "metadata": {},
          "execution_count": 51
        }
      ]
    },
    {
      "cell_type": "code",
      "metadata": {
        "cellView": "form",
        "code_folding": [
          0
        ],
        "colab": {
          "base_uri": "https://localhost:8080/"
        },
        "id": "ICENpA_JiFgl",
        "jupyter": {
          "source_hidden": true
        },
        "tags": [],
        "outputId": "0ef10959-c3a6-42c4-8f61-605479bffe6a"
      },
      "source": [
        "# @title **To'g'ri javob**\n",
        "obj.size"
      ],
      "execution_count": 13,
      "outputs": [
        {
          "output_type": "execute_result",
          "data": {
            "text/plain": [
              "13"
            ]
          },
          "metadata": {},
          "execution_count": 13
        }
      ]
    },
    {
      "cell_type": "markdown",
      "metadata": {
        "id": "ZbXRPkW5iNDw"
      },
      "source": [
        "### **7-mashq.** Yuqoridagi Series obyektining o'rtasidan 3 ta qiymat chiqaring"
      ]
    },
    {
      "cell_type": "code",
      "metadata": {
        "id": "7DZChnAQiczM",
        "outputId": "d9571b67-7b01-456f-feed-d777641ab8e0",
        "colab": {
          "base_uri": "https://localhost:8080/"
        }
      },
      "source": [
        "# Javobni shuyerga yozing\n",
        "regs[5:8]"
      ],
      "execution_count": 52,
      "outputs": [
        {
          "output_type": "execute_result",
          "data": {
            "text/plain": [
              "5         Navoiy\n",
              "6    Qashqadaryo\n",
              "7      Samarqand\n",
              "dtype: object"
            ]
          },
          "metadata": {},
          "execution_count": 52
        }
      ]
    },
    {
      "cell_type": "code",
      "metadata": {
        "cellView": "form",
        "code_folding": [
          0
        ],
        "colab": {
          "base_uri": "https://localhost:8080/"
        },
        "id": "EVtmpTXhieqB",
        "jupyter": {
          "source_hidden": true
        },
        "tags": [],
        "outputId": "7737fa23-57f4-4053-94f9-cdeca2774af9"
      },
      "source": [
        "# @title **To'g'ri javob**\n",
        "\n",
        "obj[[5, 6, 7]]"
      ],
      "execution_count": 15,
      "outputs": [
        {
          "output_type": "execute_result",
          "data": {
            "text/plain": [
              "5       Namangan\n",
              "6         Navoiy\n",
              "7    Qashqadaryo\n",
              "dtype: object"
            ]
          },
          "metadata": {},
          "execution_count": 15
        }
      ]
    },
    {
      "cell_type": "markdown",
      "metadata": {
        "id": "1pjPsrTFjG4v"
      },
      "source": [
        "### **8-mashq.** Quyidagi Series obyektini yarating.\n",
        "**Ahamiyat bering. `Series` obyekti indeksi sifatida viloyatlar nomi ishlatilgan**"
      ]
    },
    {
      "cell_type": "code",
      "metadata": {
        "cellView": "form",
        "code_folding": [
          0
        ],
        "colab": {
          "base_uri": "https://localhost:8080/"
        },
        "id": "wXmpomZCiv5f",
        "jupyter": {
          "source_hidden": true
        },
        "tags": [],
        "outputId": "e29244dd-8584-4acb-a057-7af82df2ef53"
      },
      "source": [
        "# @title\n",
        "ind = obj.values\n",
        "aholi = [\n",
        "    1899000,\n",
        "    1384700,\n",
        "    2597000,\n",
        "    910500,\n",
        "    1200000,\n",
        "    1862000,\n",
        "    767500,\n",
        "    2029000,\n",
        "    1200000,\n",
        "    2322000,\n",
        "    648100,\n",
        "    1676000,\n",
        "    4450000,\n",
        "]\n",
        "obj2 = pd.Series(aholi, index=ind)\n",
        "print(obj2)"
      ],
      "execution_count": 16,
      "outputs": [
        {
          "output_type": "stream",
          "name": "stdout",
          "text": [
            "Andijon                          1899000\n",
            "Buxoro                           1384700\n",
            "Farg'ona                         2597000\n",
            "Jizzax                            910500\n",
            "Xorazm                           1200000\n",
            "Namangan                         1862000\n",
            "Navoiy                            767500\n",
            "Qashqadaryo                      2029000\n",
            "Qoraqalpog'iston Respublikasi    1200000\n",
            "Samarqand                        2322000\n",
            "Sirdaryo                          648100\n",
            "Surxondaryo                      1676000\n",
            "Toshkent                         4450000\n",
            "dtype: int64\n"
          ]
        }
      ]
    },
    {
      "cell_type": "code",
      "metadata": {
        "id": "ehlAxUD6jEjx",
        "outputId": "bf3b3fb6-005f-4673-bce5-6fdf99425cfc",
        "colab": {
          "base_uri": "https://localhost:8080/"
        }
      },
      "source": [
        "# Javobni shuyerga yozing\n",
        "ser_d = {\"Andijon\": 1899000, \"Buxoro\": 1384700, \"Farg'ona\": 2597000, \"Jizzax\": 910500, \"Xorazm\": 1200000, \"Namangan\": 1862000, \"Navoiy\": 767500, \"Qashqadaryo\": 2029000, \"Qoraqalpog'iston Respublikasi\": 1200000, \"Samarqand\": 2322000, \"Sirdaryo\": 648100, \"Surxondaryo\": 1676000, \"Toshkent\": 4450000}\n",
        "sr = pd.Series(ser_d)\n",
        "sr"
      ],
      "execution_count": 85,
      "outputs": [
        {
          "output_type": "execute_result",
          "data": {
            "text/plain": [
              "Andijon                          1899000\n",
              "Buxoro                           1384700\n",
              "Farg'ona                         2597000\n",
              "Jizzax                            910500\n",
              "Xorazm                           1200000\n",
              "Namangan                         1862000\n",
              "Navoiy                            767500\n",
              "Qashqadaryo                      2029000\n",
              "Qoraqalpog'iston Respublikasi    1200000\n",
              "Samarqand                        2322000\n",
              "Sirdaryo                          648100\n",
              "Surxondaryo                      1676000\n",
              "Toshkent                         4450000\n",
              "dtype: int64"
            ]
          },
          "metadata": {},
          "execution_count": 85
        }
      ]
    },
    {
      "cell_type": "markdown",
      "metadata": {
        "id": "_xG9zq_KkTXn"
      },
      "source": [
        "### **9-mashq.** Yuqoridagi `Series` obyektidan Jizzax, Buxoro va Namangan viloyatlarining aholisini chiqaring"
      ]
    },
    {
      "cell_type": "code",
      "metadata": {
        "id": "71ZC0ZKoki_N",
        "outputId": "8b75b1e8-8ae1-435c-c087-e8bc00477967",
        "colab": {
          "base_uri": "https://localhost:8080/"
        }
      },
      "source": [
        "# Javobni shuyerga yozing\n",
        "sr[[\"Jizzax\", \"Buxoro\", \"Namangan\"]]"
      ],
      "execution_count": 86,
      "outputs": [
        {
          "output_type": "execute_result",
          "data": {
            "text/plain": [
              "Jizzax       910500\n",
              "Buxoro      1384700\n",
              "Namangan    1862000\n",
              "dtype: int64"
            ]
          },
          "metadata": {},
          "execution_count": 86
        }
      ]
    },
    {
      "cell_type": "code",
      "metadata": {
        "cellView": "form",
        "code_folding": [
          0
        ],
        "colab": {
          "base_uri": "https://localhost:8080/"
        },
        "id": "Nd-jwIiZkkxW",
        "jupyter": {
          "source_hidden": true
        },
        "tags": [],
        "outputId": "d717178f-630f-46eb-f12b-3919e7fe0444"
      },
      "source": [
        "# @title **To'g'ri javob**\n",
        "obj2[[\"Jizzax\", \"Buxoro\", \"Namangan\"]]"
      ],
      "execution_count": 19,
      "outputs": [
        {
          "output_type": "execute_result",
          "data": {
            "text/plain": [
              "Jizzax       910500\n",
              "Buxoro      1384700\n",
              "Namangan    1862000\n",
              "dtype: int64"
            ]
          },
          "metadata": {},
          "execution_count": 19
        }
      ]
    },
    {
      "cell_type": "markdown",
      "metadata": {
        "id": "d2ci3QWEkuEN"
      },
      "source": [
        "### **10-mashq.** Yuqoridagi `Series` obyektidan aholi soni 1 milliondan kam va ko'p bo'lgan viloyatlarni alohida chiqaring"
      ]
    },
    {
      "cell_type": "code",
      "metadata": {
        "id": "ENuCHKPukr6X",
        "outputId": "d222ff55-2153-4014-956b-e1495c705d7e",
        "colab": {
          "base_uri": "https://localhost:8080/"
        }
      },
      "source": [
        "# Javobni shuyerga yozing\n",
        "to_many = sr[sr>1000000]\n",
        "print(\"Aholisi 1 mln dan ko'p mamlakatlar\")\n",
        "to_many\n"
      ],
      "execution_count": 67,
      "outputs": [
        {
          "output_type": "stream",
          "name": "stdout",
          "text": [
            "Aholisi 1 mln dan ko'p mamlakatlar\n"
          ]
        },
        {
          "output_type": "execute_result",
          "data": {
            "text/plain": [
              "Andijon               1899000\n",
              "Buxoro                1384700\n",
              "Farg'ona              2597000\n",
              "Xorazm                1200000\n",
              "Namangan              1862000\n",
              "Qashqadaryo           2029000\n",
              "Qoraqalpog'iston R    1200000\n",
              "Samarqand             2322000\n",
              "Surxondaryo           1676000\n",
              "Toshkent              4450000\n",
              "dtype: int64"
            ]
          },
          "metadata": {},
          "execution_count": 67
        }
      ]
    },
    {
      "cell_type": "code",
      "source": [
        "to_less = sr[sr<1000000]\n",
        "print(\"Aholisi 1 mln dan kam mamlakatlar\")\n",
        "to_less"
      ],
      "metadata": {
        "id": "eKHqfNGExd2p",
        "outputId": "6caa5a50-1421-49b2-ab2a-8b2ecaf95bff",
        "colab": {
          "base_uri": "https://localhost:8080/"
        }
      },
      "execution_count": 68,
      "outputs": [
        {
          "output_type": "stream",
          "name": "stdout",
          "text": [
            "Aholisi 1 mln dan kam mamlakatlar\n"
          ]
        },
        {
          "output_type": "execute_result",
          "data": {
            "text/plain": [
              "Jizzax      910500\n",
              "Navoiy      767500\n",
              "Sirdaryo    648100\n",
              "dtype: int64"
            ]
          },
          "metadata": {},
          "execution_count": 68
        }
      ]
    },
    {
      "cell_type": "code",
      "metadata": {
        "cellView": "form",
        "code_folding": [
          0
        ],
        "colab": {
          "base_uri": "https://localhost:8080/"
        },
        "id": "C-IZM30Fk_jM",
        "jupyter": {
          "source_hidden": true
        },
        "tags": [],
        "outputId": "6a734860-0a31-433a-e99f-b5c123b7d104"
      },
      "source": [
        "# @title **To'g'ri javob**\n",
        "print(\"Aholisi 1 milliondan ko'p viloyatlar\")\n",
        "print(obj2[obj2 > 1_000_000])\n",
        "# Pythonda katta sonlarni yozishda 0 orasini _ bilan ajratish mumkin"
      ],
      "execution_count": 21,
      "outputs": [
        {
          "output_type": "stream",
          "name": "stdout",
          "text": [
            "Aholisi 1 milliondan ko'p viloyatlar\n",
            "Andijon                          1899000\n",
            "Buxoro                           1384700\n",
            "Farg'ona                         2597000\n",
            "Xorazm                           1200000\n",
            "Namangan                         1862000\n",
            "Qashqadaryo                      2029000\n",
            "Qoraqalpog'iston Respublikasi    1200000\n",
            "Samarqand                        2322000\n",
            "Surxondaryo                      1676000\n",
            "Toshkent                         4450000\n",
            "dtype: int64\n"
          ]
        }
      ]
    },
    {
      "cell_type": "code",
      "metadata": {
        "cellView": "form",
        "code_folding": [
          0
        ],
        "colab": {
          "base_uri": "https://localhost:8080/"
        },
        "id": "lUevJ5D7lK0m",
        "jupyter": {
          "source_hidden": true
        },
        "tags": [],
        "outputId": "8c645f65-cc57-45f1-e2b3-a0e8f938f066"
      },
      "source": [
        "# @title\n",
        "print(\"Aholisi 1 milliondan kam viloyatlar\")\n",
        "print(obj2[obj2 < 1_000_000])"
      ],
      "execution_count": 22,
      "outputs": [
        {
          "output_type": "stream",
          "name": "stdout",
          "text": [
            "Aholisi 1 milliondan kam viloyatlar\n",
            "Jizzax      910500\n",
            "Navoiy      767500\n",
            "Sirdaryo    648100\n",
            "dtype: int64\n"
          ]
        }
      ]
    },
    {
      "cell_type": "markdown",
      "metadata": {
        "id": "RX_PQaBdlmmO"
      },
      "source": [
        "### **11-mashq.** Aholisi 1 milliondan ko'p davlatlar orasida Navoiy viloyati bor/yo'qligini tekshiring"
      ]
    },
    {
      "cell_type": "code",
      "metadata": {
        "id": "gJqjvEcRlcme",
        "outputId": "d8530113-0665-4c68-eda0-2cc29c6aae23",
        "colab": {
          "base_uri": "https://localhost:8080/"
        }
      },
      "source": [
        "# Javobni shuyerga yozing\n",
        "'Navoiy' in to_many"
      ],
      "execution_count": 69,
      "outputs": [
        {
          "output_type": "execute_result",
          "data": {
            "text/plain": [
              "False"
            ]
          },
          "metadata": {},
          "execution_count": 69
        }
      ]
    },
    {
      "cell_type": "code",
      "metadata": {
        "cellView": "form",
        "code_folding": [
          0
        ],
        "colab": {
          "base_uri": "https://localhost:8080/"
        },
        "id": "5bzl-eT-l3ft",
        "jupyter": {
          "source_hidden": true
        },
        "tags": [],
        "outputId": "2291f5f7-4fd9-42b3-94d7-da52383f6949"
      },
      "source": [
        "# @title **To'g'ri javob**\n",
        "\"Navoiy\" in obj2[obj2 > 1_000_000]"
      ],
      "execution_count": 24,
      "outputs": [
        {
          "output_type": "execute_result",
          "data": {
            "text/plain": [
              "False"
            ]
          },
          "metadata": {},
          "execution_count": 24
        }
      ]
    },
    {
      "cell_type": "markdown",
      "metadata": {
        "id": "5m-FKutVmLpA"
      },
      "source": [
        "### **12-mashq.** Quyidagi lug'atda viloyatlar va ularning maydonlari berilgan. Lug'atdan yangi `Series` obyektini yarating va unga \"Hududlar hajmi\" deb nom bering"
      ]
    },
    {
      "cell_type": "code",
      "metadata": {
        "code_folding": [],
        "id": "sr3vN7vFl_GZ"
      },
      "source": [
        "dict = {\n",
        "    \"Andijon\": 4200,\n",
        "    \"Buxoro\": 39400,\n",
        "    \"Farg'ona\": 6800,\n",
        "    \"Jizzax\": 20500,\n",
        "    \"Xorazm\": 6300,\n",
        "    \"Namangan\": 7900,\n",
        "    \"Navoiy\": 110800,\n",
        "    \"Qashqadaryo\": 28400,\n",
        "    \"Qoraqalpog'iston Respublikasi\": 160000,\n",
        "    \"Samarqand\": 16400,\n",
        "    \"Sirdaryo\": 5100,\n",
        "    \"Surxondaryo\": 20800,\n",
        "    \"Toshkent\": 15300,\n",
        "}"
      ],
      "execution_count": 25,
      "outputs": []
    },
    {
      "cell_type": "code",
      "metadata": {
        "code_folding": [],
        "id": "OmkdZo62MaUD",
        "outputId": "f5d0c5b0-91c8-483a-b7c7-f85c98eef1d9",
        "colab": {
          "base_uri": "https://localhost:8080/"
        }
      },
      "source": [
        "# Javobni shuyerga yozing\n",
        "areas = pd.Series(dict, name=\"Hududlar hajmi\")\n",
        "areas"
      ],
      "execution_count": 70,
      "outputs": [
        {
          "output_type": "execute_result",
          "data": {
            "text/plain": [
              "Andijon                            4200\n",
              "Buxoro                            39400\n",
              "Farg'ona                           6800\n",
              "Jizzax                            20500\n",
              "Xorazm                             6300\n",
              "Namangan                           7900\n",
              "Navoiy                           110800\n",
              "Qashqadaryo                       28400\n",
              "Qoraqalpog'iston Respublikasi    160000\n",
              "Samarqand                         16400\n",
              "Sirdaryo                           5100\n",
              "Surxondaryo                       20800\n",
              "Toshkent                          15300\n",
              "Name: Hududlar hajmi, dtype: int64"
            ]
          },
          "metadata": {},
          "execution_count": 70
        }
      ]
    },
    {
      "cell_type": "code",
      "metadata": {
        "code_folding": [
          0
        ],
        "jupyter": {
          "source_hidden": true
        },
        "tags": [],
        "cellView": "form",
        "id": "kIPqYAlxMaUD",
        "outputId": "5054c7d2-f448-4b79-fc14-e886b78c2932",
        "colab": {
          "base_uri": "https://localhost:8080/"
        }
      },
      "source": [
        "#@title To'g'ri javob\n",
        "obj3 = pd.Series(dict)\n",
        "obj3.name = \"Hudular hajmi\"\n",
        "print(obj3)"
      ],
      "execution_count": 27,
      "outputs": [
        {
          "output_type": "stream",
          "name": "stdout",
          "text": [
            "Andijon                            4200\n",
            "Buxoro                            39400\n",
            "Farg'ona                           6800\n",
            "Jizzax                            20500\n",
            "Xorazm                             6300\n",
            "Namangan                           7900\n",
            "Navoiy                           110800\n",
            "Qashqadaryo                       28400\n",
            "Qoraqalpog'iston Respublikasi    160000\n",
            "Samarqand                         16400\n",
            "Sirdaryo                           5100\n",
            "Surxondaryo                       20800\n",
            "Toshkent                          15300\n",
            "Name: Hudular hajmi, dtype: int64\n"
          ]
        }
      ]
    },
    {
      "cell_type": "markdown",
      "metadata": {
        "id": "1WlWLIfvMaUD"
      },
      "source": [
        "### **13-mashq.** Yuqoridagi `Series` obyektidan hududi eng katta va eng kichik elementlarni chiqaring"
      ]
    },
    {
      "cell_type": "code",
      "metadata": {
        "id": "cfQUklJ3MaUD",
        "outputId": "50ba9c40-5672-4c9a-87a1-ad335f52f773",
        "colab": {
          "base_uri": "https://localhost:8080/"
        }
      },
      "source": [
        "# Javobni shuyerga yozing\n",
        "print(f\"Eng katta hudud: {areas.idxmax()}\")\n",
        "print(f\"Eng kichik hudud: {areas.idxmin()}\")"
      ],
      "execution_count": 81,
      "outputs": [
        {
          "output_type": "stream",
          "name": "stdout",
          "text": [
            "Eng katta hudud: Qoraqalpog'iston Respublikasi\n",
            "Eng kichik hudud: Andijon\n"
          ]
        }
      ]
    },
    {
      "cell_type": "code",
      "metadata": {
        "code_folding": [
          0
        ],
        "jupyter": {
          "source_hidden": true
        },
        "tags": [],
        "cellView": "form",
        "id": "iwVCGmISMaUD",
        "outputId": "a81cf586-c08b-4b0a-8362-252bf8b4ffb2",
        "colab": {
          "base_uri": "https://localhost:8080/"
        }
      },
      "source": [
        "#@title To'g'ri javob\n",
        "print(f\"Eng katta hudud: {obj3.idxmax()}\")\n",
        "print(f\"Eng kichik hudud: {obj3.idxmin()}\")"
      ],
      "execution_count": 29,
      "outputs": [
        {
          "output_type": "stream",
          "name": "stdout",
          "text": [
            "Eng katta hudud: Qoraqalpog'iston Respublikasi\n",
            "Eng kichik hudud: Andijon\n"
          ]
        }
      ]
    },
    {
      "cell_type": "markdown",
      "metadata": {
        "id": "hyCJqv3gMaUE"
      },
      "source": [
        "### **14-mashq.** Yuqoridagi eng katta va eng kichik hududlar aholisi sonini chiqaring"
      ]
    },
    {
      "cell_type": "code",
      "metadata": {
        "id": "wu26U94yMaUE",
        "outputId": "dfbaf6d5-e6c3-4986-f62c-9bb2c7ce5654",
        "colab": {
          "base_uri": "https://localhost:8080/"
        }
      },
      "source": [
        "# Javobni shuyerga yozing\n",
        "print(f\"{areas.idxmax()} aholisi {sr[areas.idxmax()]}\")\n",
        "print(f\"{areas.idxmin()} aholisi {sr[areas.idxmin()]}\")"
      ],
      "execution_count": 87,
      "outputs": [
        {
          "output_type": "stream",
          "name": "stdout",
          "text": [
            "Qoraqalpog'iston Respublikasi aholisi 1200000\n",
            "Andijon aholisi 1899000\n"
          ]
        }
      ]
    },
    {
      "cell_type": "code",
      "metadata": {
        "code_folding": [
          0
        ],
        "jupyter": {
          "source_hidden": true
        },
        "tags": [],
        "id": "bu_B5iFwMaUE",
        "outputId": "bbb899ca-d53c-4c21-c102-7da993744e54",
        "colab": {
          "base_uri": "https://localhost:8080/"
        }
      },
      "source": [
        "#@title To'g'ri javob\n",
        "print(f\"{obj3.idxmax()} aholisi {obj2[obj3.idxmax()]}\")\n",
        "print(f\"{obj3.idxmin()} aholisi {obj2[obj3.idxmin()]}\")"
      ],
      "execution_count": 31,
      "outputs": [
        {
          "output_type": "stream",
          "name": "stdout",
          "text": [
            "Qoraqalpog'iston Respublikasi aholisi 1200000\n",
            "Andijon aholisi 1899000\n"
          ]
        }
      ]
    },
    {
      "cell_type": "markdown",
      "metadata": {
        "id": "C6M1A-wZMaUE"
      },
      "source": [
        "### **15-mashq**. Yuqoridagi hudulardan O'zbekiston Respublikasi hududini hisoblang"
      ]
    },
    {
      "cell_type": "code",
      "metadata": {
        "id": "lBjvOsu_MaUE",
        "outputId": "c34e2af6-4e81-49d3-d82b-3d22c381ea9e",
        "colab": {
          "base_uri": "https://localhost:8080/"
        }
      },
      "source": [
        "# Javobni shuyerga yozing\n",
        "areas.sum()"
      ],
      "execution_count": 88,
      "outputs": [
        {
          "output_type": "execute_result",
          "data": {
            "text/plain": [
              "441900"
            ]
          },
          "metadata": {},
          "execution_count": 88
        }
      ]
    },
    {
      "cell_type": "code",
      "metadata": {
        "code_folding": [
          0
        ],
        "jupyter": {
          "source_hidden": true
        },
        "tags": [],
        "cellView": "form",
        "id": "Fq9J3uC-MaUE",
        "outputId": "e40709eb-e704-4521-d541-d3ae73c2d7c2",
        "colab": {
          "base_uri": "https://localhost:8080/"
        }
      },
      "source": [
        "#@title To'g'ri javob\n",
        "sum(obj3)"
      ],
      "execution_count": 33,
      "outputs": [
        {
          "output_type": "execute_result",
          "data": {
            "text/plain": [
              "441900"
            ]
          },
          "metadata": {},
          "execution_count": 33
        }
      ]
    },
    {
      "cell_type": "markdown",
      "metadata": {
        "id": "VG1qyIWfMaUF"
      },
      "source": [
        "### **16-mashq.** Aholisi eng ko'p va eng kam hududlarning hajmini va aholi sonini chiqaring"
      ]
    },
    {
      "cell_type": "code",
      "metadata": {
        "id": "wpqDW7mEMaUF",
        "outputId": "11181e4b-b398-46a4-ed96-fe7c7aae26d3",
        "colab": {
          "base_uri": "https://localhost:8080/"
        }
      },
      "source": [
        "# Javobni shuyerga yozing\n",
        "print(f\"{sr.idxmax()} hududi {areas[sr.idxmax()]}kv.km, aholisi {sr.max()}\")\n",
        "print(f\"{sr.idxmin()} hududi {areas[sr.idxmin()]}kv.km, aholisi {sr.min()}\")"
      ],
      "execution_count": 90,
      "outputs": [
        {
          "output_type": "stream",
          "name": "stdout",
          "text": [
            "Toshkent hududi 15300kv.km, aholisi 4450000\n",
            "Sirdaryo hududi 5100kv.km, aholisi 648100\n"
          ]
        }
      ]
    },
    {
      "cell_type": "code",
      "metadata": {
        "code_folding": [
          0
        ],
        "jupyter": {
          "source_hidden": true
        },
        "tags": [],
        "cellView": "form",
        "id": "mlK_8JEfMaUF",
        "outputId": "7e869472-dde9-478c-9219-87d4fa594167",
        "colab": {
          "base_uri": "https://localhost:8080/"
        }
      },
      "source": [
        "#@title To'g'ri javob\n",
        "print(f\"{obj2.idxmax()} hududi {obj3[obj2.idxmax()]}kv.km, aholisi {obj2[obj2.idxmax()]}\")\n",
        "print(f\"{obj2.idxmin()} hududi {obj3[obj2.idxmin()]}kv.km, aholisi {obj2[obj2.idxmin()]}\")"
      ],
      "execution_count": 35,
      "outputs": [
        {
          "output_type": "stream",
          "name": "stdout",
          "text": [
            "Toshkent hududi 15300kv.km, aholisi 4450000\n",
            "Sirdaryo hududi 5100kv.km, aholisi 648100\n"
          ]
        }
      ]
    },
    {
      "cell_type": "markdown",
      "metadata": {
        "id": "DVnpsFuBMaUF"
      },
      "source": [
        "### **17-mashq.** Yuqoridagi ikki obyektdan foydalangan holda O'zbekiston respublikasi tarkibidagi hududlarni avval aholi soni bo'yicha, keyin esa hajmi bo'yicha tartiblab chiqaring"
      ]
    },
    {
      "cell_type": "code",
      "metadata": {
        "id": "ritVgX4bMaUF",
        "outputId": "f6b7ae52-7b02-4a10-c702-0a4e570b838f",
        "colab": {
          "base_uri": "https://localhost:8080/"
        }
      },
      "source": [
        "# Javobni shuyerga yozing\n",
        "print(\"Hududlar hajmi bo'yicha tartiblash\")\n",
        "areas.sort_values()"
      ],
      "execution_count": 91,
      "outputs": [
        {
          "output_type": "stream",
          "name": "stdout",
          "text": [
            "Hududlar hajmi bo'yicha tartiblash\n"
          ]
        },
        {
          "output_type": "execute_result",
          "data": {
            "text/plain": [
              "Andijon                            4200\n",
              "Sirdaryo                           5100\n",
              "Xorazm                             6300\n",
              "Farg'ona                           6800\n",
              "Namangan                           7900\n",
              "Toshkent                          15300\n",
              "Samarqand                         16400\n",
              "Jizzax                            20500\n",
              "Surxondaryo                       20800\n",
              "Qashqadaryo                       28400\n",
              "Buxoro                            39400\n",
              "Navoiy                           110800\n",
              "Qoraqalpog'iston Respublikasi    160000\n",
              "Name: Hududlar hajmi, dtype: int64"
            ]
          },
          "metadata": {},
          "execution_count": 91
        }
      ]
    },
    {
      "cell_type": "code",
      "metadata": {
        "code_folding": [
          0
        ],
        "jupyter": {
          "source_hidden": true
        },
        "tags": [],
        "cellView": "form",
        "id": "uzGYBpU-MaUF",
        "outputId": "27ed8107-77d2-4fce-eb34-4ffe4a6b4a84",
        "colab": {
          "base_uri": "https://localhost:8080/"
        }
      },
      "source": [
        "#@title To'g'ri javob\n",
        "print(\"Hududlar hajmi bo'yicha tartiblash\")\n",
        "obj3.sort_values()"
      ],
      "execution_count": 37,
      "outputs": [
        {
          "output_type": "stream",
          "name": "stdout",
          "text": [
            "Hududlar hajmi bo'yicha tartiblash\n"
          ]
        },
        {
          "output_type": "execute_result",
          "data": {
            "text/plain": [
              "Andijon                            4200\n",
              "Sirdaryo                           5100\n",
              "Xorazm                             6300\n",
              "Farg'ona                           6800\n",
              "Namangan                           7900\n",
              "Toshkent                          15300\n",
              "Samarqand                         16400\n",
              "Jizzax                            20500\n",
              "Surxondaryo                       20800\n",
              "Qashqadaryo                       28400\n",
              "Buxoro                            39400\n",
              "Navoiy                           110800\n",
              "Qoraqalpog'iston Respublikasi    160000\n",
              "Name: Hudular hajmi, dtype: int64"
            ]
          },
          "metadata": {},
          "execution_count": 37
        }
      ]
    },
    {
      "cell_type": "code",
      "source": [
        "print(\"Aholi soni bo'yicha tartiblash\")\n",
        "sr.sort_values()"
      ],
      "metadata": {
        "id": "FK7Msuo060xu",
        "outputId": "1fc8b18e-ba2a-4e4b-bb9a-3038b2b3927c",
        "colab": {
          "base_uri": "https://localhost:8080/"
        }
      },
      "execution_count": 92,
      "outputs": [
        {
          "output_type": "stream",
          "name": "stdout",
          "text": [
            "Aholi soni bo'yicha tartiblash\n"
          ]
        },
        {
          "output_type": "execute_result",
          "data": {
            "text/plain": [
              "Sirdaryo                          648100\n",
              "Navoiy                            767500\n",
              "Jizzax                            910500\n",
              "Xorazm                           1200000\n",
              "Qoraqalpog'iston Respublikasi    1200000\n",
              "Buxoro                           1384700\n",
              "Surxondaryo                      1676000\n",
              "Namangan                         1862000\n",
              "Andijon                          1899000\n",
              "Qashqadaryo                      2029000\n",
              "Samarqand                        2322000\n",
              "Farg'ona                         2597000\n",
              "Toshkent                         4450000\n",
              "dtype: int64"
            ]
          },
          "metadata": {},
          "execution_count": 92
        }
      ]
    },
    {
      "cell_type": "code",
      "metadata": {
        "code_folding": [
          0
        ],
        "jupyter": {
          "source_hidden": true
        },
        "tags": [],
        "cellView": "form",
        "id": "RPI5Y5ZaMaUF",
        "outputId": "9f3f8562-665c-4a9b-b5ed-18ba167594f1",
        "colab": {
          "base_uri": "https://localhost:8080/"
        }
      },
      "source": [
        "#@title To'g'ri javob\n",
        "print(\"Aholi soni bo'yicha tartiblash\")\n",
        "obj2.sort_values()"
      ],
      "execution_count": 38,
      "outputs": [
        {
          "output_type": "stream",
          "name": "stdout",
          "text": [
            "Aholi soni bo'yicha tartiblash\n"
          ]
        },
        {
          "output_type": "execute_result",
          "data": {
            "text/plain": [
              "Sirdaryo                          648100\n",
              "Navoiy                            767500\n",
              "Jizzax                            910500\n",
              "Xorazm                           1200000\n",
              "Qoraqalpog'iston Respublikasi    1200000\n",
              "Buxoro                           1384700\n",
              "Surxondaryo                      1676000\n",
              "Namangan                         1862000\n",
              "Andijon                          1899000\n",
              "Qashqadaryo                      2029000\n",
              "Samarqand                        2322000\n",
              "Farg'ona                         2597000\n",
              "Toshkent                         4450000\n",
              "dtype: int64"
            ]
          },
          "metadata": {},
          "execution_count": 38
        }
      ]
    }
  ]
}